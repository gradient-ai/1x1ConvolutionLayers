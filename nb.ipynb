{
 "cells": [
  {
   "cell_type": "markdown",
   "source": [
    "# Imports and dependencies"
   ],
   "metadata": {}
  },
  {
   "cell_type": "code",
   "execution_count": null,
   "source": [
    "import torch\n",
    "import torch.nn as nn\n",
    "import torch.nn.functional as F\n",
    "import time"
   ],
   "outputs": [],
   "metadata": {}
  },
  {
   "cell_type": "markdown",
   "source": [
    "## 1 x 1 Convolution & Dimensionality Reduction"
   ],
   "metadata": {}
  },
  {
   "cell_type": "code",
   "execution_count": null,
   "source": [
    "#  output from an intermediate layer\n",
    "intermediate_output = torch.ones((512, 12, 12))\n",
    "\n",
    "#  1x1 convolution layer\n",
    "conv_1x1 = nn.Conv2d(512, 32, 1)\n",
    "\n",
    "#  producing a downsampled representation \n",
    "downsampled = conv_1x1(intermediate_output)\n",
    "downsampled.shape"
   ],
   "outputs": [],
   "metadata": {}
  },
  {
   "cell_type": "markdown",
   "source": [
    "## Comparing 1 x 1 Convolution & Dimensionality Reduction effect with 3 x 3 Convolution & Dimensionality Reduction effect "
   ],
   "metadata": {}
  },
  {
   "cell_type": "code",
   "execution_count": null,
   "source": [
    "#  1x1 convolution layer\n",
    "conv_1x1 = nn.Conv2d(512, 32, 1)\n",
    "\n",
    "#  3x3 convolution layer\n",
    "conv_3x3 = nn.Conv2d(512, 32, 3, padding=1)\n",
    "\n",
    "#  deriving parameters in the network\n",
    "parameters_1x1 = list(conv_1x1.parameters())\n",
    "parameters_3x3 = list(conv_3x3.parameters())\n",
    "\n",
    "#  deriving total number of parameters in the (1, 1) layer\n",
    "number_of_parameters_1x1 = sum(x.numel() for x in parameters_1x1)\n",
    "\n",
    "#  deriving total number of parameters in the (3, 3) layer\n",
    "number_of_parameters_3x3 = sum(x.numel() for x in parameters_3x3)"
   ],
   "outputs": [],
   "metadata": {}
  },
  {
   "cell_type": "code",
   "execution_count": null,
   "source": [
    "#  start time\n",
    "start = time.time()\n",
    "\n",
    "#  producing downsampled representation \n",
    "downsampled = conv_1x1(intermediate_output)\n",
    "\n",
    "#  stop time\n",
    "stop = time.time()\n",
    "\n",
    "print(round(stop-start, 5))"
   ],
   "outputs": [],
   "metadata": {}
  },
  {
   "cell_type": "code",
   "execution_count": null,
   "source": [
    "#  start time\n",
    "start = time.time()\n",
    "\n",
    "#  producing downsampled representation \n",
    "downsampled = conv_3x3(intermediate_output)\n",
    "\n",
    "#  stop time\n",
    "stop = time.time()\n",
    "\n",
    "print(round(stop-start, 5))"
   ],
   "outputs": [],
   "metadata": {}
  },
  {
   "cell_type": "markdown",
   "source": [
    "## ConvNet NN build"
   ],
   "metadata": {}
  },
  {
   "cell_type": "code",
   "execution_count": null,
   "source": [
    "class ConvNet(nn.Module):\n",
    "  def __init__(self):\n",
    "    super().__init__()\n",
    "    self.network = nn.Sequential(\n",
    "        #  layer 1\n",
    "        nn.Conv2d(1, 3, 3, padding=1),\n",
    "        nn.MaxPool2d(2),\n",
    "        nn.ReLU(),\n",
    "        #  layer 2\n",
    "        nn.Conv2d(3, 8, 3, padding=1),\n",
    "        nn.MaxPool2d(2),\n",
    "        nn.ReLU(),\n",
    "        #  layer 3\n",
    "        nn.Conv2d(8, 8, 1),\n",
    "        nn.ReLU() #  additional non-linearity\n",
    "    )\n",
    "\n",
    "  def forward(self, x):\n",
    "    input = x.view(-1, 1, 28, 28)\n",
    "    output = self.network(input)\n",
    "    return output"
   ],
   "outputs": [],
   "metadata": {}
  },
  {
   "cell_type": "code",
   "execution_count": null,
   "source": [
    "class ConvNet(nn.Module):\n",
    "  def __init__(self):\n",
    "    super().__init__()\n",
    "    self.conv1 = nn.Conv2d(1, 3, 3, padding=1)\n",
    "    self.pool1 = nn.MaxPool2d(2)\n",
    "    self.conv2 = nn.Conv2d(3, 64, 3, padding=1)\n",
    "    self.pool2 = nn.MaxPool2d(2)\n",
    "    self.linear1 = nn.Linear(3136, 100)\n",
    "    self.linear2 = nn.Linear(100, 10)\n",
    "\n",
    "\n",
    "  def forward(self, x):\n",
    "    input = x.view(-1, 1, 28, 28)\n",
    "\n",
    "    #-----------\n",
    "    # LAYER 1\n",
    "    #-----------\n",
    "    output_1 = self.conv1(input)\n",
    "    output_1 = self.pool1(output_1)\n",
    "    output_1 = F.relu(output_1)\n",
    "\n",
    "    #-----------\n",
    "    # LAYER 2\n",
    "    #-----------\n",
    "    output_2 = self.conv2(output_1)\n",
    "    output_2 = self.pool2(output_2)\n",
    "    output_2 = F.relu(output_2)\n",
    "\n",
    "    #  flattening feature maps\n",
    "    output_2 = output_2.view(-1, 7*7*64)\n",
    "\n",
    "    #-----------\n",
    "    # LAYER 3\n",
    "    #-----------\n",
    "    output_3 = self.linear1(output_2)\n",
    "    output_3 = F.relu(output_3)\n",
    "\n",
    "    #--------------\n",
    "    # OUTPUT LAYER\n",
    "    #--------------\n",
    "    output_4 = self.linear2(output_3)\n",
    "    \n",
    "    return torch.sigmoid(output_4)"
   ],
   "outputs": [],
   "metadata": {}
  },
  {
   "cell_type": "code",
   "execution_count": null,
   "source": [
    "class ConvNet(nn.Module):\n",
    "  def __init__(self):\n",
    "    super().__init__()\n",
    "    self.conv1 = nn.Conv2d(1, 3, 3, padding=1)\n",
    "    self.pool1 = nn.MaxPool2d(2)\n",
    "    self.conv2 = nn.Conv2d(3, 64, 3, padding=1)\n",
    "    self.pool2 = nn.MaxPool2d(2)\n",
    "    self.conv3 = nn.Conv2d(64, 32, 1) # 1 x 1 downsampling from 64 channels to 32 channels\n",
    "    self.conv4 = nn.Conv2d(32, 10, 1) # 1 x 1 downsampling from 32 channels to 10 channels\n",
    "    self.pool4 = nn.AvgPool2d(7) # deriving average pixel values per channel\n",
    "\n",
    "\n",
    "  def forward(self, x):\n",
    "    input = x.view(-1, 1, 28, 28)\n",
    "\n",
    "    #-----------\n",
    "    # LAYER 1\n",
    "    #-----------\n",
    "    output_1 = self.conv1(input)\n",
    "    output_1 = self.pool1(output_1)\n",
    "    output_1 = F.relu(output_1)\n",
    "\n",
    "    #-----------\n",
    "    # LAYER 2\n",
    "    #-----------\n",
    "    output_2 = self.conv2(output_1)\n",
    "    output_2 = self.pool2(output_2)\n",
    "    output_2 = F.relu(output_2)\n",
    "\n",
    "    #-----------\n",
    "    # LAYER 3\n",
    "    #-----------\n",
    "    output_3 = self.conv3(output_2)\n",
    "    output_3 = F.relu(output_3)\n",
    "\n",
    "    #--------------\n",
    "    # OUTPUT LAYER\n",
    "    #--------------\n",
    "    output_4 = self.conv4(output_3)\n",
    "    output_4 = self.pool4(output_4)\n",
    "    output_4 = output_4.view(-1, 10)\n",
    "    \n",
    "    return torch.sigmoid(output_4)"
   ],
   "outputs": [],
   "metadata": {}
  }
 ],
 "metadata": {
  "orig_nbformat": 4,
  "language_info": {
   "name": "python"
  }
 },
 "nbformat": 4,
 "nbformat_minor": 2
}